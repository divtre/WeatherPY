{
 "cells": [
  {
   "cell_type": "code",
   "execution_count": null,
   "metadata": {},
   "outputs": [],
   "source": [
    "# Dependencies\n",
    "import numpy as np\n",
    "import pandas as pd\n",
    "import matplotlib.pyplot as plt\n",
    "import requests\n",
    "from citipy import citipy"
   ]
  },
  {
   "cell_type": "code",
   "execution_count": null,
   "metadata": {},
   "outputs": [],
   "source": [
    "api_key = \"25bc90a1196e6f153eece0bc0b0fc9eb\""
   ]
  },
  {
   "cell_type": "code",
   "execution_count": 497,
   "metadata": {},
   "outputs": [],
   "source": [
    "#lat=np.random.uniform(-90,90, size=500)\n",
    "#lon=np.random.uniform(-180,180, size=500)\n",
    "lat=np.random.uniform(32,33, size=10)\n",
    "lon=np.random.uniform(117,118, size=10)"
   ]
  },
  {
   "cell_type": "code",
   "execution_count": 498,
   "metadata": {},
   "outputs": [
    {
     "data": {
      "text/html": [
       "<div>\n",
       "<style scoped>\n",
       "    .dataframe tbody tr th:only-of-type {\n",
       "        vertical-align: middle;\n",
       "    }\n",
       "\n",
       "    .dataframe tbody tr th {\n",
       "        vertical-align: top;\n",
       "    }\n",
       "\n",
       "    .dataframe thead th {\n",
       "        text-align: right;\n",
       "    }\n",
       "</style>\n",
       "<table border=\"1\" class=\"dataframe\">\n",
       "  <thead>\n",
       "    <tr style=\"text-align: right;\">\n",
       "      <th></th>\n",
       "      <th>lat</th>\n",
       "      <th>lon</th>\n",
       "    </tr>\n",
       "  </thead>\n",
       "  <tbody>\n",
       "    <tr>\n",
       "      <th>0</th>\n",
       "      <td>32.698988</td>\n",
       "      <td>117.984122</td>\n",
       "    </tr>\n",
       "    <tr>\n",
       "      <th>1</th>\n",
       "      <td>32.806243</td>\n",
       "      <td>117.935455</td>\n",
       "    </tr>\n",
       "    <tr>\n",
       "      <th>2</th>\n",
       "      <td>32.429940</td>\n",
       "      <td>117.478155</td>\n",
       "    </tr>\n",
       "    <tr>\n",
       "      <th>3</th>\n",
       "      <td>32.837977</td>\n",
       "      <td>117.056593</td>\n",
       "    </tr>\n",
       "    <tr>\n",
       "      <th>4</th>\n",
       "      <td>32.892843</td>\n",
       "      <td>117.167075</td>\n",
       "    </tr>\n",
       "  </tbody>\n",
       "</table>\n",
       "</div>"
      ],
      "text/plain": [
       "         lat         lon\n",
       "0  32.698988  117.984122\n",
       "1  32.806243  117.935455\n",
       "2  32.429940  117.478155\n",
       "3  32.837977  117.056593\n",
       "4  32.892843  117.167075"
      ]
     },
     "execution_count": 498,
     "metadata": {},
     "output_type": "execute_result"
    }
   ],
   "source": [
    "coordinates = {\"lat\" : lat ,\"lon\" : lon}\n",
    "coordinates\n",
    "coordinates = pd.DataFrame(coordinates)\n",
    "coordinates.head()"
   ]
  },
  {
   "cell_type": "code",
   "execution_count": 499,
   "metadata": {},
   "outputs": [],
   "source": [
    "cities=[]\n",
    "for index, row in coordinates.iterrows():\n",
    "    #print(str(index)+''+str(row))\n",
    "    city = citipy.nearest_city( row['lat'], row['lon'] ).city_name\n",
    "    #print(city)\n",
    "    cities.append(city)\n",
    "        #cities.append(city) print(city)\n"
   ]
  },
  {
   "cell_type": "code",
   "execution_count": 500,
   "metadata": {},
   "outputs": [],
   "source": [
    "coordinates[\"City\"]=cities"
   ]
  },
  {
   "cell_type": "code",
   "execution_count": 501,
   "metadata": {},
   "outputs": [],
   "source": [
    "coordinates=coordinates[[\"City\",\"lat\",\"lon\"]]"
   ]
  },
  {
   "cell_type": "code",
   "execution_count": 502,
   "metadata": {},
   "outputs": [
    {
     "data": {
      "text/html": [
       "<div>\n",
       "<style scoped>\n",
       "    .dataframe tbody tr th:only-of-type {\n",
       "        vertical-align: middle;\n",
       "    }\n",
       "\n",
       "    .dataframe tbody tr th {\n",
       "        vertical-align: top;\n",
       "    }\n",
       "\n",
       "    .dataframe thead th {\n",
       "        text-align: right;\n",
       "    }\n",
       "</style>\n",
       "<table border=\"1\" class=\"dataframe\">\n",
       "  <thead>\n",
       "    <tr style=\"text-align: right;\">\n",
       "      <th></th>\n",
       "      <th>City</th>\n",
       "      <th>lat</th>\n",
       "      <th>lon</th>\n",
       "    </tr>\n",
       "  </thead>\n",
       "  <tbody>\n",
       "    <tr>\n",
       "      <th>0</th>\n",
       "      <td>mingguang</td>\n",
       "      <td>32.698988</td>\n",
       "      <td>117.984122</td>\n",
       "    </tr>\n",
       "    <tr>\n",
       "      <th>1</th>\n",
       "      <td>mingguang</td>\n",
       "      <td>32.806243</td>\n",
       "      <td>117.935455</td>\n",
       "    </tr>\n",
       "    <tr>\n",
       "      <th>2</th>\n",
       "      <td>huainan</td>\n",
       "      <td>32.429940</td>\n",
       "      <td>117.478155</td>\n",
       "    </tr>\n",
       "    <tr>\n",
       "      <th>3</th>\n",
       "      <td>huaiyuan</td>\n",
       "      <td>32.837977</td>\n",
       "      <td>117.056593</td>\n",
       "    </tr>\n",
       "    <tr>\n",
       "      <th>4</th>\n",
       "      <td>huaiyuan</td>\n",
       "      <td>32.892843</td>\n",
       "      <td>117.167075</td>\n",
       "    </tr>\n",
       "  </tbody>\n",
       "</table>\n",
       "</div>"
      ],
      "text/plain": [
       "        City        lat         lon\n",
       "0  mingguang  32.698988  117.984122\n",
       "1  mingguang  32.806243  117.935455\n",
       "2    huainan  32.429940  117.478155\n",
       "3   huaiyuan  32.837977  117.056593\n",
       "4   huaiyuan  32.892843  117.167075"
      ]
     },
     "execution_count": 502,
     "metadata": {},
     "output_type": "execute_result"
    }
   ],
   "source": [
    "coordinates.head()"
   ]
  },
  {
   "cell_type": "code",
   "execution_count": 503,
   "metadata": {},
   "outputs": [],
   "source": [
    "coordinates[\"Temperature\"]=''\n",
    "coordinates[\"Humidity\"]=''\n",
    "coordinates[\"Cloudiness\"]=''\n",
    "coordinates[\"Wind_Speed\"]=''"
   ]
  },
  {
   "cell_type": "code",
   "execution_count": 504,
   "metadata": {},
   "outputs": [
    {
     "data": {
      "text/html": [
       "<div>\n",
       "<style scoped>\n",
       "    .dataframe tbody tr th:only-of-type {\n",
       "        vertical-align: middle;\n",
       "    }\n",
       "\n",
       "    .dataframe tbody tr th {\n",
       "        vertical-align: top;\n",
       "    }\n",
       "\n",
       "    .dataframe thead th {\n",
       "        text-align: right;\n",
       "    }\n",
       "</style>\n",
       "<table border=\"1\" class=\"dataframe\">\n",
       "  <thead>\n",
       "    <tr style=\"text-align: right;\">\n",
       "      <th></th>\n",
       "      <th>City</th>\n",
       "      <th>lat</th>\n",
       "      <th>lon</th>\n",
       "      <th>Temperature</th>\n",
       "      <th>Humidity</th>\n",
       "      <th>Cloudiness</th>\n",
       "      <th>Wind_Speed</th>\n",
       "    </tr>\n",
       "  </thead>\n",
       "  <tbody>\n",
       "    <tr>\n",
       "      <th>0</th>\n",
       "      <td>mingguang</td>\n",
       "      <td>32.698988</td>\n",
       "      <td>117.984122</td>\n",
       "      <td></td>\n",
       "      <td></td>\n",
       "      <td></td>\n",
       "      <td></td>\n",
       "    </tr>\n",
       "    <tr>\n",
       "      <th>1</th>\n",
       "      <td>mingguang</td>\n",
       "      <td>32.806243</td>\n",
       "      <td>117.935455</td>\n",
       "      <td></td>\n",
       "      <td></td>\n",
       "      <td></td>\n",
       "      <td></td>\n",
       "    </tr>\n",
       "    <tr>\n",
       "      <th>2</th>\n",
       "      <td>huainan</td>\n",
       "      <td>32.429940</td>\n",
       "      <td>117.478155</td>\n",
       "      <td></td>\n",
       "      <td></td>\n",
       "      <td></td>\n",
       "      <td></td>\n",
       "    </tr>\n",
       "    <tr>\n",
       "      <th>3</th>\n",
       "      <td>huaiyuan</td>\n",
       "      <td>32.837977</td>\n",
       "      <td>117.056593</td>\n",
       "      <td></td>\n",
       "      <td></td>\n",
       "      <td></td>\n",
       "      <td></td>\n",
       "    </tr>\n",
       "    <tr>\n",
       "      <th>4</th>\n",
       "      <td>huaiyuan</td>\n",
       "      <td>32.892843</td>\n",
       "      <td>117.167075</td>\n",
       "      <td></td>\n",
       "      <td></td>\n",
       "      <td></td>\n",
       "      <td></td>\n",
       "    </tr>\n",
       "    <tr>\n",
       "      <th>5</th>\n",
       "      <td>bengbu</td>\n",
       "      <td>32.529633</td>\n",
       "      <td>117.452440</td>\n",
       "      <td></td>\n",
       "      <td></td>\n",
       "      <td></td>\n",
       "      <td></td>\n",
       "    </tr>\n",
       "    <tr>\n",
       "      <th>6</th>\n",
       "      <td>hefei</td>\n",
       "      <td>32.174948</td>\n",
       "      <td>117.089556</td>\n",
       "      <td></td>\n",
       "      <td></td>\n",
       "      <td></td>\n",
       "      <td></td>\n",
       "    </tr>\n",
       "    <tr>\n",
       "      <th>7</th>\n",
       "      <td>hefei</td>\n",
       "      <td>32.197016</td>\n",
       "      <td>117.434431</td>\n",
       "      <td></td>\n",
       "      <td></td>\n",
       "      <td></td>\n",
       "      <td></td>\n",
       "    </tr>\n",
       "    <tr>\n",
       "      <th>8</th>\n",
       "      <td>hefei</td>\n",
       "      <td>32.012011</td>\n",
       "      <td>117.453846</td>\n",
       "      <td></td>\n",
       "      <td></td>\n",
       "      <td></td>\n",
       "      <td></td>\n",
       "    </tr>\n",
       "    <tr>\n",
       "      <th>9</th>\n",
       "      <td>mingguang</td>\n",
       "      <td>32.799663</td>\n",
       "      <td>117.918861</td>\n",
       "      <td></td>\n",
       "      <td></td>\n",
       "      <td></td>\n",
       "      <td></td>\n",
       "    </tr>\n",
       "  </tbody>\n",
       "</table>\n",
       "</div>"
      ],
      "text/plain": [
       "        City        lat         lon Temperature Humidity Cloudiness Wind_Speed\n",
       "0  mingguang  32.698988  117.984122                                           \n",
       "1  mingguang  32.806243  117.935455                                           \n",
       "2    huainan  32.429940  117.478155                                           \n",
       "3   huaiyuan  32.837977  117.056593                                           \n",
       "4   huaiyuan  32.892843  117.167075                                           \n",
       "5     bengbu  32.529633  117.452440                                           \n",
       "6      hefei  32.174948  117.089556                                           \n",
       "7      hefei  32.197016  117.434431                                           \n",
       "8      hefei  32.012011  117.453846                                           \n",
       "9  mingguang  32.799663  117.918861                                           "
      ]
     },
     "execution_count": 504,
     "metadata": {},
     "output_type": "execute_result"
    }
   ],
   "source": [
    "coordinates.head(10)"
   ]
  },
  {
   "cell_type": "code",
   "execution_count": 505,
   "metadata": {},
   "outputs": [],
   "source": [
    "url = \"http://api.openweathermap.org/data/2.5/weather?\"\n",
    "units = \"metric\""
   ]
  },
  {
   "cell_type": "code",
   "execution_count": 521,
   "metadata": {},
   "outputs": [
    {
     "name": "stdout",
     "output_type": "stream",
     "text": [
      "http://api.openweathermap.org/data/2.5/weather?appid=25bc90a1196e6f153eece0bc0b0fc9eb&units=metric&q=mingguang\n",
      "http://api.openweathermap.org/data/2.5/weather?appid=25bc90a1196e6f153eece0bc0b0fc9eb&units=metric&q=mingguang\n",
      "http://api.openweathermap.org/data/2.5/weather?appid=25bc90a1196e6f153eece0bc0b0fc9eb&units=metric&q=huainan\n",
      "http://api.openweathermap.org/data/2.5/weather?appid=25bc90a1196e6f153eece0bc0b0fc9eb&units=metric&q=huaiyuan\n",
      "http://api.openweathermap.org/data/2.5/weather?appid=25bc90a1196e6f153eece0bc0b0fc9eb&units=metric&q=huaiyuan\n",
      "http://api.openweathermap.org/data/2.5/weather?appid=25bc90a1196e6f153eece0bc0b0fc9eb&units=metric&q=bengbu\n",
      "http://api.openweathermap.org/data/2.5/weather?appid=25bc90a1196e6f153eece0bc0b0fc9eb&units=metric&q=hefei\n",
      "http://api.openweathermap.org/data/2.5/weather?appid=25bc90a1196e6f153eece0bc0b0fc9eb&units=metric&q=hefei\n",
      "http://api.openweathermap.org/data/2.5/weather?appid=25bc90a1196e6f153eece0bc0b0fc9eb&units=metric&q=hefei\n",
      "http://api.openweathermap.org/data/2.5/weather?appid=25bc90a1196e6f153eece0bc0b0fc9eb&units=metric&q=mingguang\n"
     ]
    }
   ],
   "source": [
    "query_url = f\"{url}appid={api_key}&units={units}&q=\"\n",
    "for city in cities:\n",
    "    print(query_url+city)\n",
    "    response = requests.get(query_url + city).json()\n",
    "   # print(response['clouds']['all'])"
   ]
  },
  {
   "cell_type": "code",
   "execution_count": 507,
   "metadata": {},
   "outputs": [
    {
     "name": "stdout",
     "output_type": "stream",
     "text": [
      "{'coord': {'lon': 118.01, 'lat': 32.78}, 'weather': [{'id': 802, 'main': 'Clouds', 'description': 'scattered clouds', 'icon': '03d'}], 'base': 'stations', 'main': {'temp': 24.2, 'pressure': 1020.45, 'humidity': 76, 'temp_min': 24.2, 'temp_max': 24.2, 'sea_level': 1023.58, 'grnd_level': 1020.45}, 'wind': {'speed': 2.96, 'deg': 192.01}, 'clouds': {'all': 36}, 'dt': 1522653232, 'sys': {'message': 0.1636, 'country': 'CN', 'sunrise': 1522619696, 'sunset': 1522664917}, 'id': 1800519, 'name': 'Mingguang', 'cod': 200}\n",
      "{'coord': {'lon': 118.01, 'lat': 32.78}, 'weather': [{'id': 802, 'main': 'Clouds', 'description': 'scattered clouds', 'icon': '03d'}], 'base': 'stations', 'main': {'temp': 24.2, 'pressure': 1020.45, 'humidity': 76, 'temp_min': 24.2, 'temp_max': 24.2, 'sea_level': 1023.58, 'grnd_level': 1020.45}, 'wind': {'speed': 2.96, 'deg': 192.01}, 'clouds': {'all': 36}, 'dt': 1522653232, 'sys': {'message': 0.1636, 'country': 'CN', 'sunrise': 1522619696, 'sunset': 1522664917}, 'id': 1800519, 'name': 'Mingguang', 'cod': 200}\n",
      "{'coord': {'lon': 117.01, 'lat': 32.59}, 'weather': [{'id': 802, 'main': 'Clouds', 'description': 'scattered clouds', 'icon': '03d'}], 'base': 'stations', 'main': {'temp': 25, 'pressure': 1019.24, 'humidity': 73, 'temp_min': 25, 'temp_max': 25, 'sea_level': 1023.21, 'grnd_level': 1019.24}, 'wind': {'speed': 4.41, 'deg': 164.01}, 'clouds': {'all': 32}, 'dt': 1522653233, 'sys': {'message': 0.1647, 'country': 'CN', 'sunrise': 1522619942, 'sunset': 1522665151}, 'id': 1807681, 'name': 'Huainan', 'cod': 200}\n",
      "{'coord': {'lon': 117.2, 'lat': 32.97}, 'weather': [{'id': 801, 'main': 'Clouds', 'description': 'few clouds', 'icon': '02d'}], 'base': 'stations', 'main': {'temp': 26.25, 'pressure': 1019.48, 'humidity': 74, 'temp_min': 26.25, 'temp_max': 26.25, 'sea_level': 1022.97, 'grnd_level': 1019.48}, 'wind': {'speed': 3.61, 'deg': 182.51}, 'clouds': {'all': 12}, 'dt': 1522653225, 'sys': {'message': 0.0033, 'country': 'CN', 'sunrise': 1522619885, 'sunset': 1522665118}, 'id': 1816440, 'name': 'Huaiyuan', 'cod': 200}\n",
      "{'coord': {'lon': 117.2, 'lat': 32.97}, 'weather': [{'id': 801, 'main': 'Clouds', 'description': 'few clouds', 'icon': '02d'}], 'base': 'stations', 'main': {'temp': 26.25, 'pressure': 1019.48, 'humidity': 74, 'temp_min': 26.25, 'temp_max': 26.25, 'sea_level': 1022.97, 'grnd_level': 1019.48}, 'wind': {'speed': 3.61, 'deg': 182.51}, 'clouds': {'all': 12}, 'dt': 1522653225, 'sys': {'message': 0.0033, 'country': 'CN', 'sunrise': 1522619885, 'sunset': 1522665118}, 'id': 1816440, 'name': 'Huaiyuan', 'cod': 200}\n",
      "{'coord': {'lon': 117.38, 'lat': 32.92}, 'weather': [{'id': 802, 'main': 'Clouds', 'description': 'scattered clouds', 'icon': '03d'}], 'base': 'stations', 'main': {'temp': 25.75, 'pressure': 1019.97, 'humidity': 73, 'temp_min': 25.75, 'temp_max': 25.75, 'sea_level': 1023.29, 'grnd_level': 1019.97}, 'wind': {'speed': 4.36, 'deg': 192.51}, 'clouds': {'all': 44}, 'dt': 1522653226, 'sys': {'message': 0.006, 'country': 'CN', 'sunrise': 1522619843, 'sunset': 1522665073}, 'id': 1816440, 'name': 'Bengbu', 'cod': 200}\n",
      "{'coord': {'lon': 117.22, 'lat': 31.82}, 'weather': [{'id': 803, 'main': 'Clouds', 'description': 'broken clouds', 'icon': '04d'}], 'base': 'stations', 'main': {'temp': 28, 'pressure': 1008, 'humidity': 48, 'temp_min': 28, 'temp_max': 28}, 'visibility': 10000, 'wind': {'speed': 1}, 'clouds': {'all': 75}, 'dt': 1522648800, 'sys': {'type': 1, 'id': 7449, 'message': 0.167, 'country': 'CN', 'sunrise': 1522619916, 'sunset': 1522665076}, 'id': 1808722, 'name': 'Hefei', 'cod': 200}\n",
      "{'coord': {'lon': 117.22, 'lat': 31.82}, 'weather': [{'id': 803, 'main': 'Clouds', 'description': 'broken clouds', 'icon': '04d'}], 'base': 'stations', 'main': {'temp': 28, 'pressure': 1008, 'humidity': 48, 'temp_min': 28, 'temp_max': 28}, 'visibility': 10000, 'wind': {'speed': 1}, 'clouds': {'all': 75}, 'dt': 1522648800, 'sys': {'type': 1, 'id': 7449, 'message': 0.167, 'country': 'CN', 'sunrise': 1522619916, 'sunset': 1522665076}, 'id': 1808722, 'name': 'Hefei', 'cod': 200}\n",
      "{'coord': {'lon': 117.22, 'lat': 31.82}, 'weather': [{'id': 803, 'main': 'Clouds', 'description': 'broken clouds', 'icon': '04d'}], 'base': 'stations', 'main': {'temp': 28, 'pressure': 1008, 'humidity': 48, 'temp_min': 28, 'temp_max': 28}, 'visibility': 10000, 'wind': {'speed': 1}, 'clouds': {'all': 75}, 'dt': 1522648800, 'sys': {'type': 1, 'id': 7449, 'message': 0.167, 'country': 'CN', 'sunrise': 1522619916, 'sunset': 1522665076}, 'id': 1808722, 'name': 'Hefei', 'cod': 200}\n",
      "{'coord': {'lon': 118.01, 'lat': 32.78}, 'weather': [{'id': 802, 'main': 'Clouds', 'description': 'scattered clouds', 'icon': '03d'}], 'base': 'stations', 'main': {'temp': 24.2, 'pressure': 1020.45, 'humidity': 76, 'temp_min': 24.2, 'temp_max': 24.2, 'sea_level': 1023.58, 'grnd_level': 1020.45}, 'wind': {'speed': 2.96, 'deg': 192.01}, 'clouds': {'all': 36}, 'dt': 1522653232, 'sys': {'message': 0.1636, 'country': 'CN', 'sunrise': 1522619696, 'sunset': 1522664917}, 'id': 1800519, 'name': 'Mingguang', 'cod': 200}\n"
     ]
    }
   ],
   "source": [
    "Temperature = []\n",
    "Humidity = []\n",
    "Cloudiness=[]\n",
    "Wind_Speed=[]\n",
    "# loop through cities, make API request, and append desired results\n",
    "for city in cities:\n",
    "    response = requests.get(query_url + city).json()\n",
    "    print(response)\n",
    "    Humidity.append(response['main']['humidity'])\n",
    "    Temperature.append(response['main']['temp'])\n",
    "    Cloudiness.append(response['clouds']['all'])\n",
    "    Wind_Speed.append(response['wind']['speed'])"
   ]
  },
  {
   "cell_type": "code",
   "execution_count": 508,
   "metadata": {},
   "outputs": [],
   "source": [
    "coordinates[\"Temperature\"]=Humidity\n",
    "coordinates[\"Humidity\"]=Temperature\n",
    "coordinates[\"Cloudiness\"]=Cloudiness\n",
    "coordinates[\"Wind_Speed\"]=Wind_Speed"
   ]
  },
  {
   "cell_type": "code",
   "execution_count": 515,
   "metadata": {},
   "outputs": [
    {
     "data": {
      "text/html": [
       "<div>\n",
       "<style scoped>\n",
       "    .dataframe tbody tr th:only-of-type {\n",
       "        vertical-align: middle;\n",
       "    }\n",
       "\n",
       "    .dataframe tbody tr th {\n",
       "        vertical-align: top;\n",
       "    }\n",
       "\n",
       "    .dataframe thead th {\n",
       "        text-align: right;\n",
       "    }\n",
       "</style>\n",
       "<table border=\"1\" class=\"dataframe\">\n",
       "  <thead>\n",
       "    <tr style=\"text-align: right;\">\n",
       "      <th></th>\n",
       "      <th>City</th>\n",
       "      <th>lat</th>\n",
       "      <th>lon</th>\n",
       "      <th>Temperature</th>\n",
       "      <th>Humidity</th>\n",
       "      <th>Cloudiness</th>\n",
       "      <th>Wind_Speed</th>\n",
       "    </tr>\n",
       "  </thead>\n",
       "  <tbody>\n",
       "    <tr>\n",
       "      <th>0</th>\n",
       "      <td>mingguang</td>\n",
       "      <td>32.698988</td>\n",
       "      <td>117.984122</td>\n",
       "      <td>76</td>\n",
       "      <td>24.20</td>\n",
       "      <td>36</td>\n",
       "      <td>2.96</td>\n",
       "    </tr>\n",
       "    <tr>\n",
       "      <th>1</th>\n",
       "      <td>mingguang</td>\n",
       "      <td>32.806243</td>\n",
       "      <td>117.935455</td>\n",
       "      <td>76</td>\n",
       "      <td>24.20</td>\n",
       "      <td>36</td>\n",
       "      <td>2.96</td>\n",
       "    </tr>\n",
       "    <tr>\n",
       "      <th>2</th>\n",
       "      <td>huainan</td>\n",
       "      <td>32.429940</td>\n",
       "      <td>117.478155</td>\n",
       "      <td>73</td>\n",
       "      <td>25.00</td>\n",
       "      <td>32</td>\n",
       "      <td>4.41</td>\n",
       "    </tr>\n",
       "    <tr>\n",
       "      <th>3</th>\n",
       "      <td>huaiyuan</td>\n",
       "      <td>32.837977</td>\n",
       "      <td>117.056593</td>\n",
       "      <td>74</td>\n",
       "      <td>26.25</td>\n",
       "      <td>12</td>\n",
       "      <td>3.61</td>\n",
       "    </tr>\n",
       "    <tr>\n",
       "      <th>4</th>\n",
       "      <td>huaiyuan</td>\n",
       "      <td>32.892843</td>\n",
       "      <td>117.167075</td>\n",
       "      <td>74</td>\n",
       "      <td>26.25</td>\n",
       "      <td>12</td>\n",
       "      <td>3.61</td>\n",
       "    </tr>\n",
       "    <tr>\n",
       "      <th>5</th>\n",
       "      <td>bengbu</td>\n",
       "      <td>32.529633</td>\n",
       "      <td>117.452440</td>\n",
       "      <td>73</td>\n",
       "      <td>25.75</td>\n",
       "      <td>44</td>\n",
       "      <td>4.36</td>\n",
       "    </tr>\n",
       "    <tr>\n",
       "      <th>6</th>\n",
       "      <td>hefei</td>\n",
       "      <td>32.174948</td>\n",
       "      <td>117.089556</td>\n",
       "      <td>48</td>\n",
       "      <td>28.00</td>\n",
       "      <td>75</td>\n",
       "      <td>1.00</td>\n",
       "    </tr>\n",
       "    <tr>\n",
       "      <th>7</th>\n",
       "      <td>hefei</td>\n",
       "      <td>32.197016</td>\n",
       "      <td>117.434431</td>\n",
       "      <td>48</td>\n",
       "      <td>28.00</td>\n",
       "      <td>75</td>\n",
       "      <td>1.00</td>\n",
       "    </tr>\n",
       "    <tr>\n",
       "      <th>8</th>\n",
       "      <td>hefei</td>\n",
       "      <td>32.012011</td>\n",
       "      <td>117.453846</td>\n",
       "      <td>48</td>\n",
       "      <td>28.00</td>\n",
       "      <td>75</td>\n",
       "      <td>1.00</td>\n",
       "    </tr>\n",
       "    <tr>\n",
       "      <th>9</th>\n",
       "      <td>mingguang</td>\n",
       "      <td>32.799663</td>\n",
       "      <td>117.918861</td>\n",
       "      <td>76</td>\n",
       "      <td>24.20</td>\n",
       "      <td>36</td>\n",
       "      <td>2.96</td>\n",
       "    </tr>\n",
       "  </tbody>\n",
       "</table>\n",
       "</div>"
      ],
      "text/plain": [
       "        City        lat         lon  Temperature  Humidity  Cloudiness  \\\n",
       "0  mingguang  32.698988  117.984122           76     24.20          36   \n",
       "1  mingguang  32.806243  117.935455           76     24.20          36   \n",
       "2    huainan  32.429940  117.478155           73     25.00          32   \n",
       "3   huaiyuan  32.837977  117.056593           74     26.25          12   \n",
       "4   huaiyuan  32.892843  117.167075           74     26.25          12   \n",
       "5     bengbu  32.529633  117.452440           73     25.75          44   \n",
       "6      hefei  32.174948  117.089556           48     28.00          75   \n",
       "7      hefei  32.197016  117.434431           48     28.00          75   \n",
       "8      hefei  32.012011  117.453846           48     28.00          75   \n",
       "9  mingguang  32.799663  117.918861           76     24.20          36   \n",
       "\n",
       "   Wind_Speed  \n",
       "0        2.96  \n",
       "1        2.96  \n",
       "2        4.41  \n",
       "3        3.61  \n",
       "4        3.61  \n",
       "5        4.36  \n",
       "6        1.00  \n",
       "7        1.00  \n",
       "8        1.00  \n",
       "9        2.96  "
      ]
     },
     "execution_count": 515,
     "metadata": {},
     "output_type": "execute_result"
    }
   ],
   "source": [
    "coordinates.head(20)"
   ]
  },
  {
   "cell_type": "code",
   "execution_count": 516,
   "metadata": {},
   "outputs": [
    {
     "data": {
      "image/png": "[encoded data removed]",
      "text/plain": [
       "<matplotlib.figure.Figure at 0x205ba7c5ba8>"
      ]
     },
     "metadata": {},
     "output_type": "display_data"
    }
   ],
   "source": [
    "plt.scatter(coordinates[\"lat\"], coordinates[\"Temperature\"], marker=\"o\")\n",
    "\n",
    "# Incorporate the other graph properties\n",
    "plt.title(\"Temperature vs Latitude\")\n",
    "plt.ylabel(\"Temperature (Celsius)\")\n",
    "plt.xlabel(\"Latitude\")\n",
    "plt.grid(True)\n",
    "\n",
    "# Save the figure\n",
    "plt.savefig(\"TemperatureInWorldCities.png\")\n",
    "\n",
    "# Show plot\n",
    "plt.show()"
   ]
  },
  {
   "cell_type": "code",
   "execution_count": 517,
   "metadata": {},
   "outputs": [
    {
     "data": {
      "image/png": "[encoded data removed]",
      "text/plain": [
       "<matplotlib.figure.Figure at 0x205ba780b00>"
      ]
     },
     "metadata": {},
     "output_type": "display_data"
    }
   ],
   "source": [
    "plt.scatter(coordinates[\"lat\"], coordinates[\"Humidity\"], marker=\"o\")\n",
    "\n",
    "# Incorporate the other graph properties\n",
    "plt.title(\"Humidity vs Latitude\")\n",
    "plt.ylabel(\"Humidity \")\n",
    "plt.xlabel(\"Latitude\")\n",
    "plt.grid(True)\n",
    "\n",
    "# Save the figure\n",
    "plt.savefig(\"HumidityInWorldCities_1.png\")\n",
    "\n",
    "# Show plot\n",
    "plt.show()"
   ]
  },
  {
   "cell_type": "code",
   "execution_count": 518,
   "metadata": {},
   "outputs": [
    {
     "data": {
      "image/png": "[encoded data removed]",
      "text/plain": [
       "<matplotlib.figure.Figure at 0x205baec62e8>"
      ]
     },
     "metadata": {},
     "output_type": "display_data"
    }
   ],
   "source": [
    "plt.scatter(coordinates[\"lat\"], coordinates[\"Cloudiness\"], marker=\"o\")\n",
    "\n",
    "# Incorporate the other graph properties\n",
    "plt.title(\"Cloudiness vs Latitude\")\n",
    "plt.ylabel(\"Cloudiness \")\n",
    "plt.xlabel(\"Latitude\")\n",
    "plt.grid(True)\n",
    "\n",
    "# Save the figure\n",
    "plt.savefig(\"CloudinessInWorldCities_1.png\")\n",
    "\n",
    "# Show plot\n",
    "plt.show()"
   ]
  },
  {
   "cell_type": "code",
   "execution_count": 519,
   "metadata": {},
   "outputs": [
    {
     "data": {
      "image/png": "[encoded data removed]",
      "text/plain": [
       "<matplotlib.figure.Figure at 0x205bb611b38>"
      ]
     },
     "metadata": {},
     "output_type": "display_data"
    }
   ],
   "source": [
    "plt.scatter(coordinates[\"lat\"], coordinates[\"Wind_Speed\"], marker=\"o\")\n",
    "\n",
    "# Incorporate the other graph properties\n",
    "plt.title(\"Wind Speed vs Latitude\")\n",
    "plt.ylabel(\"Wind Speed \")\n",
    "plt.xlabel(\"Latitude\")\n",
    "plt.grid(True)\n",
    "\n",
    "# Save the figure\n",
    "plt.savefig(\"WindSpeedInWorldCities_1.png\")\n",
    "\n",
    "# Show plot\n",
    "plt.show()"
   ]
  },
  {
   "cell_type": "code",
   "execution_count": null,
   "metadata": {},
   "outputs": [],
   "source": []
  },
  {
   "cell_type": "code",
   "execution_count": null,
   "metadata": {},
   "outputs": [],
   "source": []
  }
 ],
 "metadata": {
  "kernelspec": {
   "display_name": "Python 3",
   "language": "python",
   "name": "python3"
  },
  "language_info": {
   "codemirror_mode": {
    "name": "ipython",
    "version": 3
   },
   "file_extension": ".py",
   "mimetype": "text/x-python",
   "name": "python",
   "nbconvert_exporter": "python",
   "pygments_lexer": "ipython3",
   "version": "3.6.4"
  }
 },
 "nbformat": 4,
 "nbformat_minor": 2
}
